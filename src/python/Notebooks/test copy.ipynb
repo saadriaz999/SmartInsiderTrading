{
 "cells": [
  {
   "cell_type": "markdown",
   "metadata": {},
   "source": [
    "# Predicting Stock Prices Using Insider Data"
   ]
  },
  {
   "cell_type": "markdown",
   "metadata": {},
   "source": [
    "## 1 Preprocessing Both Datasets"
   ]
  },
  {
   "cell_type": "code",
   "execution_count": 49,
   "metadata": {},
   "outputs": [],
   "source": [
    "import pandas as pd\n",
    "\n",
    "insider_data = pd.read_csv('CSCO_insider_data.csv')\n",
    "stock_data = pd.read_csv('CSCO_stock_data.csv')"
   ]
  },
  {
   "cell_type": "code",
   "execution_count": 50,
   "metadata": {},
   "outputs": [],
   "source": [
    "insider_data = insider_data.drop(columns=['company_name', 'ticker', 'insider_name', 'job_title'])"
   ]
  },
  {
   "cell_type": "code",
   "execution_count": 51,
   "metadata": {},
   "outputs": [
    {
     "name": "stderr",
     "output_type": "stream",
     "text": [
      "/var/folders/v_/3rfld4fn7s14pz1_cmd8q_580000gn/T/ipykernel_17709/1854117035.py:1: FutureWarning: Downcasting behavior in `replace` is deprecated and will be removed in a future version. To retain the old behavior, explicitly call `result.infer_objects(copy=False)`. To opt-in to the future behavior, set `pd.set_option('future.no_silent_downcasting', True)`\n",
      "  insider_data['trade_type'] = insider_data['trade_type'].replace({'S': 1, 'P': 0})\n"
     ]
    }
   ],
   "source": [
    "insider_data['trade_type'] = insider_data['trade_type'].replace({'S': 1, 'P': 0})"
   ]
  },
  {
   "cell_type": "code",
   "execution_count": 52,
   "metadata": {},
   "outputs": [],
   "source": [
    "# insider_data['filing_date'] = pd.to_datetime(insider_data['filing_date'])\n",
    "stock_data['Date'] = pd.to_datetime(stock_data['Date'], utc=True).dt.tz_localize(None)"
   ]
  },
  {
   "cell_type": "code",
   "execution_count": 53,
   "metadata": {},
   "outputs": [
    {
     "name": "stdout",
     "output_type": "stream",
     "text": [
      "(1714, 7)\n",
      "(4716, 6)\n"
     ]
    }
   ],
   "source": [
    "print(insider_data.shape)\n",
    "print(stock_data.shape)"
   ]
  },
  {
   "cell_type": "code",
   "execution_count": 54,
   "metadata": {},
   "outputs": [
    {
     "data": {
      "text/html": [
       "<div>\n",
       "<style scoped>\n",
       "    .dataframe tbody tr th:only-of-type {\n",
       "        vertical-align: middle;\n",
       "    }\n",
       "\n",
       "    .dataframe tbody tr th {\n",
       "        vertical-align: top;\n",
       "    }\n",
       "\n",
       "    .dataframe thead th {\n",
       "        text-align: right;\n",
       "    }\n",
       "</style>\n",
       "<table border=\"1\" class=\"dataframe\">\n",
       "  <thead>\n",
       "    <tr style=\"text-align: right;\">\n",
       "      <th></th>\n",
       "      <th>filing_date</th>\n",
       "      <th>trade_type</th>\n",
       "      <th>price</th>\n",
       "      <th>quantity_traded</th>\n",
       "      <th>final_shares_owned</th>\n",
       "      <th>change_in_shares_owned</th>\n",
       "      <th>value_of_shares_traded</th>\n",
       "    </tr>\n",
       "  </thead>\n",
       "  <tbody>\n",
       "    <tr>\n",
       "      <th>0</th>\n",
       "      <td>2006-01-04</td>\n",
       "      <td>1</td>\n",
       "      <td>17.19</td>\n",
       "      <td>-7333.0</td>\n",
       "      <td>2789.0</td>\n",
       "      <td>-262.925780</td>\n",
       "      <td>-126054.27</td>\n",
       "    </tr>\n",
       "    <tr>\n",
       "      <th>1</th>\n",
       "      <td>2006-01-04</td>\n",
       "      <td>1</td>\n",
       "      <td>17.19</td>\n",
       "      <td>-7291.0</td>\n",
       "      <td>2789.0</td>\n",
       "      <td>-261.419864</td>\n",
       "      <td>-125332.29</td>\n",
       "    </tr>\n",
       "    <tr>\n",
       "      <th>2</th>\n",
       "      <td>2006-01-04</td>\n",
       "      <td>1</td>\n",
       "      <td>17.19</td>\n",
       "      <td>-7291.0</td>\n",
       "      <td>2789.0</td>\n",
       "      <td>-261.419864</td>\n",
       "      <td>-125332.29</td>\n",
       "    </tr>\n",
       "    <tr>\n",
       "      <th>3</th>\n",
       "      <td>2006-01-06</td>\n",
       "      <td>1</td>\n",
       "      <td>18.50</td>\n",
       "      <td>-30000.0</td>\n",
       "      <td>2789.0</td>\n",
       "      <td>-1075.654356</td>\n",
       "      <td>-555000.00</td>\n",
       "    </tr>\n",
       "    <tr>\n",
       "      <th>4</th>\n",
       "      <td>2006-02-10</td>\n",
       "      <td>1</td>\n",
       "      <td>19.95</td>\n",
       "      <td>-45000.0</td>\n",
       "      <td>82764.0</td>\n",
       "      <td>-54.371466</td>\n",
       "      <td>-897750.00</td>\n",
       "    </tr>\n",
       "    <tr>\n",
       "      <th>...</th>\n",
       "      <td>...</td>\n",
       "      <td>...</td>\n",
       "      <td>...</td>\n",
       "      <td>...</td>\n",
       "      <td>...</td>\n",
       "      <td>...</td>\n",
       "      <td>...</td>\n",
       "    </tr>\n",
       "    <tr>\n",
       "      <th>1709</th>\n",
       "      <td>2024-08-22</td>\n",
       "      <td>1</td>\n",
       "      <td>50.33</td>\n",
       "      <td>-8270.0</td>\n",
       "      <td>135544.0</td>\n",
       "      <td>-6.101340</td>\n",
       "      <td>-416229.10</td>\n",
       "    </tr>\n",
       "    <tr>\n",
       "      <th>1710</th>\n",
       "      <td>2024-08-28</td>\n",
       "      <td>1</td>\n",
       "      <td>50.36</td>\n",
       "      <td>-3379.0</td>\n",
       "      <td>47182.0</td>\n",
       "      <td>-7.161629</td>\n",
       "      <td>-170166.44</td>\n",
       "    </tr>\n",
       "    <tr>\n",
       "      <th>1711</th>\n",
       "      <td>2024-09-12</td>\n",
       "      <td>1</td>\n",
       "      <td>49.09</td>\n",
       "      <td>-638.0</td>\n",
       "      <td>46017.0</td>\n",
       "      <td>-1.386444</td>\n",
       "      <td>-31319.42</td>\n",
       "    </tr>\n",
       "    <tr>\n",
       "      <th>1712</th>\n",
       "      <td>2024-09-12</td>\n",
       "      <td>1</td>\n",
       "      <td>48.92</td>\n",
       "      <td>-1328.0</td>\n",
       "      <td>132910.0</td>\n",
       "      <td>-0.999172</td>\n",
       "      <td>-64965.76</td>\n",
       "    </tr>\n",
       "    <tr>\n",
       "      <th>1713</th>\n",
       "      <td>2024-09-12</td>\n",
       "      <td>1</td>\n",
       "      <td>48.95</td>\n",
       "      <td>-2642.0</td>\n",
       "      <td>161223.0</td>\n",
       "      <td>-1.638724</td>\n",
       "      <td>-129325.90</td>\n",
       "    </tr>\n",
       "  </tbody>\n",
       "</table>\n",
       "<p>1714 rows × 7 columns</p>\n",
       "</div>"
      ],
      "text/plain": [
       "     filing_date  trade_type  price  quantity_traded  final_shares_owned  \\\n",
       "0     2006-01-04           1  17.19          -7333.0              2789.0   \n",
       "1     2006-01-04           1  17.19          -7291.0              2789.0   \n",
       "2     2006-01-04           1  17.19          -7291.0              2789.0   \n",
       "3     2006-01-06           1  18.50         -30000.0              2789.0   \n",
       "4     2006-02-10           1  19.95         -45000.0             82764.0   \n",
       "...          ...         ...    ...              ...                 ...   \n",
       "1709  2024-08-22           1  50.33          -8270.0            135544.0   \n",
       "1710  2024-08-28           1  50.36          -3379.0             47182.0   \n",
       "1711  2024-09-12           1  49.09           -638.0             46017.0   \n",
       "1712  2024-09-12           1  48.92          -1328.0            132910.0   \n",
       "1713  2024-09-12           1  48.95          -2642.0            161223.0   \n",
       "\n",
       "      change_in_shares_owned  value_of_shares_traded  \n",
       "0                -262.925780              -126054.27  \n",
       "1                -261.419864              -125332.29  \n",
       "2                -261.419864              -125332.29  \n",
       "3               -1075.654356              -555000.00  \n",
       "4                 -54.371466              -897750.00  \n",
       "...                      ...                     ...  \n",
       "1709               -6.101340              -416229.10  \n",
       "1710               -7.161629              -170166.44  \n",
       "1711               -1.386444               -31319.42  \n",
       "1712               -0.999172               -64965.76  \n",
       "1713               -1.638724              -129325.90  \n",
       "\n",
       "[1714 rows x 7 columns]"
      ]
     },
     "execution_count": 54,
     "metadata": {},
     "output_type": "execute_result"
    }
   ],
   "source": [
    "insider_data"
   ]
  },
  {
   "cell_type": "code",
   "execution_count": 55,
   "metadata": {},
   "outputs": [
    {
     "data": {
      "text/html": [
       "<div>\n",
       "<style scoped>\n",
       "    .dataframe tbody tr th:only-of-type {\n",
       "        vertical-align: middle;\n",
       "    }\n",
       "\n",
       "    .dataframe tbody tr th {\n",
       "        vertical-align: top;\n",
       "    }\n",
       "\n",
       "    .dataframe thead th {\n",
       "        text-align: right;\n",
       "    }\n",
       "</style>\n",
       "<table border=\"1\" class=\"dataframe\">\n",
       "  <thead>\n",
       "    <tr style=\"text-align: right;\">\n",
       "      <th></th>\n",
       "      <th>Date</th>\n",
       "      <th>Open</th>\n",
       "      <th>High</th>\n",
       "      <th>Low</th>\n",
       "      <th>Close</th>\n",
       "      <th>Volume</th>\n",
       "    </tr>\n",
       "  </thead>\n",
       "  <tbody>\n",
       "    <tr>\n",
       "      <th>0</th>\n",
       "      <td>2006-01-03 05:00:00</td>\n",
       "      <td>11.484047</td>\n",
       "      <td>11.670888</td>\n",
       "      <td>11.464029</td>\n",
       "      <td>11.644197</td>\n",
       "      <td>55426000</td>\n",
       "    </tr>\n",
       "    <tr>\n",
       "      <th>1</th>\n",
       "      <td>2006-01-04 05:00:00</td>\n",
       "      <td>11.664215</td>\n",
       "      <td>11.964496</td>\n",
       "      <td>11.650869</td>\n",
       "      <td>11.911113</td>\n",
       "      <td>80408900</td>\n",
       "    </tr>\n",
       "    <tr>\n",
       "      <th>2</th>\n",
       "      <td>2006-01-05 05:00:00</td>\n",
       "      <td>11.971171</td>\n",
       "      <td>12.331507</td>\n",
       "      <td>11.964498</td>\n",
       "      <td>12.244760</td>\n",
       "      <td>118575500</td>\n",
       "    </tr>\n",
       "    <tr>\n",
       "      <th>3</th>\n",
       "      <td>2006-01-06 05:00:00</td>\n",
       "      <td>12.351521</td>\n",
       "      <td>12.598417</td>\n",
       "      <td>12.324828</td>\n",
       "      <td>12.525016</td>\n",
       "      <td>122446000</td>\n",
       "    </tr>\n",
       "    <tr>\n",
       "      <th>4</th>\n",
       "      <td>2006-01-09 05:00:00</td>\n",
       "      <td>12.658474</td>\n",
       "      <td>12.751895</td>\n",
       "      <td>12.625110</td>\n",
       "      <td>12.718530</td>\n",
       "      <td>78592600</td>\n",
       "    </tr>\n",
       "    <tr>\n",
       "      <th>...</th>\n",
       "      <td>...</td>\n",
       "      <td>...</td>\n",
       "      <td>...</td>\n",
       "      <td>...</td>\n",
       "      <td>...</td>\n",
       "      <td>...</td>\n",
       "    </tr>\n",
       "    <tr>\n",
       "      <th>4711</th>\n",
       "      <td>2024-09-23 04:00:00</td>\n",
       "      <td>51.665159</td>\n",
       "      <td>52.042274</td>\n",
       "      <td>51.496446</td>\n",
       "      <td>51.794170</td>\n",
       "      <td>18343400</td>\n",
       "    </tr>\n",
       "    <tr>\n",
       "      <th>4712</th>\n",
       "      <td>2024-09-24 04:00:00</td>\n",
       "      <td>51.814020</td>\n",
       "      <td>52.171290</td>\n",
       "      <td>51.615536</td>\n",
       "      <td>52.121670</td>\n",
       "      <td>26479300</td>\n",
       "    </tr>\n",
       "    <tr>\n",
       "      <th>4713</th>\n",
       "      <td>2024-09-25 04:00:00</td>\n",
       "      <td>52.171288</td>\n",
       "      <td>52.330074</td>\n",
       "      <td>51.972804</td>\n",
       "      <td>52.250683</td>\n",
       "      <td>22422200</td>\n",
       "    </tr>\n",
       "    <tr>\n",
       "      <th>4714</th>\n",
       "      <td>2024-09-26 04:00:00</td>\n",
       "      <td>52.598025</td>\n",
       "      <td>52.885827</td>\n",
       "      <td>52.359844</td>\n",
       "      <td>52.449162</td>\n",
       "      <td>18374000</td>\n",
       "    </tr>\n",
       "    <tr>\n",
       "      <th>4715</th>\n",
       "      <td>2024-09-27 04:00:00</td>\n",
       "      <td>52.637723</td>\n",
       "      <td>52.816358</td>\n",
       "      <td>52.459088</td>\n",
       "      <td>52.617874</td>\n",
       "      <td>13868300</td>\n",
       "    </tr>\n",
       "  </tbody>\n",
       "</table>\n",
       "<p>4716 rows × 6 columns</p>\n",
       "</div>"
      ],
      "text/plain": [
       "                    Date       Open       High        Low      Close  \\\n",
       "0    2006-01-03 05:00:00  11.484047  11.670888  11.464029  11.644197   \n",
       "1    2006-01-04 05:00:00  11.664215  11.964496  11.650869  11.911113   \n",
       "2    2006-01-05 05:00:00  11.971171  12.331507  11.964498  12.244760   \n",
       "3    2006-01-06 05:00:00  12.351521  12.598417  12.324828  12.525016   \n",
       "4    2006-01-09 05:00:00  12.658474  12.751895  12.625110  12.718530   \n",
       "...                  ...        ...        ...        ...        ...   \n",
       "4711 2024-09-23 04:00:00  51.665159  52.042274  51.496446  51.794170   \n",
       "4712 2024-09-24 04:00:00  51.814020  52.171290  51.615536  52.121670   \n",
       "4713 2024-09-25 04:00:00  52.171288  52.330074  51.972804  52.250683   \n",
       "4714 2024-09-26 04:00:00  52.598025  52.885827  52.359844  52.449162   \n",
       "4715 2024-09-27 04:00:00  52.637723  52.816358  52.459088  52.617874   \n",
       "\n",
       "         Volume  \n",
       "0      55426000  \n",
       "1      80408900  \n",
       "2     118575500  \n",
       "3     122446000  \n",
       "4      78592600  \n",
       "...         ...  \n",
       "4711   18343400  \n",
       "4712   26479300  \n",
       "4713   22422200  \n",
       "4714   18374000  \n",
       "4715   13868300  \n",
       "\n",
       "[4716 rows x 6 columns]"
      ]
     },
     "execution_count": 55,
     "metadata": {},
     "output_type": "execute_result"
    }
   ],
   "source": [
    "stock_data"
   ]
  },
  {
   "cell_type": "markdown",
   "metadata": {},
   "source": [
    "## 1.5 Tensorflow"
   ]
  },
  {
   "cell_type": "code",
   "execution_count": 125,
   "metadata": {},
   "outputs": [],
   "source": [
    "import pandas as pd\n",
    "import numpy as np\n",
    "import matplotlib.pyplot as plt\n",
    "from sklearn.preprocessing import MinMaxScaler\n",
    "from sklearn.metrics import mean_squared_error, mean_absolute_error\n",
    "from torch import nn, optim\n",
    "import torch\n",
    "\n",
    "# Convert 'Open' prices to a numpy array\n",
    "open_prices = stock_data['Open'].values.reshape(-1, 1)\n",
    "\n",
    "# Normalize the data\n",
    "scaler = MinMaxScaler(feature_range=(0, 1))\n",
    "open_prices_scaled = scaler.fit_transform(open_prices)\n",
    "\n",
    "# Create sequences of 60 timesteps and corresponding labels\n",
    "X, y = [], []\n",
    "sequence_length = 60\n",
    "for i in range(sequence_length, len(open_prices_scaled)):\n",
    "    X.append(open_prices_scaled[i-sequence_length:i, 0])\n",
    "    y.append(open_prices_scaled[i, 0])\n",
    "\n",
    "X, y = np.array(X), np.array(y)\n",
    "\n",
    "# Split the data into training and testing sets\n",
    "split_ratio = 0.99\n",
    "train_size = int(len(X) * split_ratio)\n",
    "X_train, y_train = X[:train_size], y[:train_size]\n",
    "X_test, y_test = X[train_size:], y[train_size:]\n",
    "\n",
    "# Reshape input data to 3D (samples, timesteps, features)\n",
    "X_train = np.reshape(X_train, (X_train.shape[0], X_train.shape[1], 1))\n",
    "X_test = np.reshape(X_test, (X_test.shape[0], X_test.shape[1], 1))\n",
    "\n",
    "# Convert data to PyTorch tensors\n",
    "X_train = torch.tensor(X_train, dtype=torch.float32)\n",
    "y_train = torch.tensor(y_train, dtype=torch.float32)\n",
    "X_test = torch.tensor(X_test, dtype=torch.float32)\n",
    "y_test = torch.tensor(y_test, dtype=torch.float32)\n",
    "\n",
    "# Define the LSTM model\n",
    "class StockLSTM(nn.Module):\n",
    "    def __init__(self):\n",
    "        super(StockLSTM, self).__init__()\n",
    "        self.lstm = nn.LSTM(input_size=1, hidden_size=50, num_layers=4, batch_first=True, dropout=0.2)\n",
    "        self.fc = nn.Linear(50, 1)\n",
    "\n",
    "    def forward(self, x):\n",
    "        out, _ = self.lstm(x)\n",
    "        out = self.fc(out[:, -1, :])  # Get the last timestep output\n",
    "        return out\n",
    "\n",
    "# Instantiate the model, define loss and optimizer\n",
    "model = StockLSTM()\n",
    "criterion = nn.MSELoss()\n",
    "optimizer = optim.Adam(model.parameters(), lr=0.001)"
   ]
  },
  {
   "cell_type": "code",
   "execution_count": 127,
   "metadata": {},
   "outputs": [
    {
     "name": "stdout",
     "output_type": "stream",
     "text": [
      "Epoch [10/100], Train Loss: 0.1085, Test Loss: 0.3321\n",
      "Epoch [20/100], Train Loss: 0.0742, Test Loss: 0.2041\n",
      "Epoch [30/100], Train Loss: 0.0743, Test Loss: 0.2213\n",
      "Epoch [40/100], Train Loss: 0.0651, Test Loss: 0.1125\n",
      "Epoch [50/100], Train Loss: 0.0186, Test Loss: 0.0077\n",
      "Epoch [60/100], Train Loss: 0.0108, Test Loss: 0.0042\n",
      "Epoch [70/100], Train Loss: 0.0067, Test Loss: 0.0066\n",
      "Epoch [80/100], Train Loss: 0.0054, Test Loss: 0.0037\n",
      "Epoch [90/100], Train Loss: 0.0037, Test Loss: 0.0015\n",
      "Epoch [100/100], Train Loss: 0.0031, Test Loss: 0.0015\n"
     ]
    },
    {
     "data": {
      "image/png": "[encoded data removed]",
      "text/plain": [
       "<Figure size 1000x500 with 1 Axes>"
      ]
     },
     "metadata": {},
     "output_type": "display_data"
    }
   ],
   "source": [
    "# Training loop\n",
    "epochs = 100\n",
    "batch_size = 32\n",
    "train_losses = []\n",
    "test_losses = []\n",
    "\n",
    "for epoch in range(epochs):\n",
    "    model.train()\n",
    "    optimizer.zero_grad()\n",
    "    output = model(X_train)\n",
    "    train_loss = criterion(output.squeeze(), y_train)\n",
    "    train_loss.backward()\n",
    "    optimizer.step()\n",
    "    train_losses.append(train_loss.item())\n",
    "\n",
    "    # Evaluate on test data\n",
    "    model.eval()\n",
    "    with torch.no_grad():\n",
    "        test_output = model(X_test)\n",
    "        test_loss = criterion(test_output.squeeze(), y_test)\n",
    "        test_losses.append(test_loss.item())\n",
    "\n",
    "    if (epoch+1) % 10 == 0:\n",
    "        print(f'Epoch [{epoch+1}/{epochs}], Train Loss: {train_loss.item():.4f}, Test Loss: {test_loss.item():.4f}')\n",
    "\n",
    "# Plot training and test losses\n",
    "plt.figure(figsize=(10, 5))\n",
    "plt.plot(train_losses, label=\"Training Loss\")\n",
    "plt.plot(test_losses, label=\"Test Loss\")\n",
    "plt.title(\"Training and Test Losses\")\n",
    "plt.xlabel(\"Epochs\")\n",
    "plt.ylabel(\"Loss\")\n",
    "plt.legend()\n",
    "plt.show()"
   ]
  },
  {
   "cell_type": "code",
   "execution_count": 128,
   "metadata": {},
   "outputs": [
    {
     "name": "stdout",
     "output_type": "stream",
     "text": [
      "Mean Squared Error (MSE): 3.5618\n",
      "Mean Absolute Error (MAE): 1.5779\n",
      "Mean Absolute Percentage Error (MAPE): 3.26%\n"
     ]
    },
    {
     "data": {
      "image/png": "[encoded data removed]",
      "text/plain": [
       "<Figure size 1000x500 with 1 Axes>"
      ]
     },
     "metadata": {},
     "output_type": "display_data"
    },
    {
     "data": {
      "image/png": "[encoded data removed]",
      "text/plain": [
       "<Figure size 700x500 with 1 Axes>"
      ]
     },
     "metadata": {},
     "output_type": "display_data"
    }
   ],
   "source": [
    "# Evaluate on test data\n",
    "model.eval()\n",
    "with torch.no_grad():\n",
    "    predictions = model(X_test).squeeze()\n",
    "    predictions = scaler.inverse_transform(predictions.numpy().reshape(-1, 1)).flatten()\n",
    "    actuals = scaler.inverse_transform(y_test.numpy().reshape(-1, 1)).flatten()\n",
    "\n",
    "# Calculate metrics\n",
    "mse = mean_squared_error(actuals, predictions)\n",
    "mae = mean_absolute_error(actuals, predictions)\n",
    "mape = np.mean(np.abs((actuals - predictions) / actuals)) * 100\n",
    "\n",
    "print(f\"Mean Squared Error (MSE): {mse:.4f}\")\n",
    "print(f\"Mean Absolute Error (MAE): {mae:.4f}\")\n",
    "print(f\"Mean Absolute Percentage Error (MAPE): {mape:.2f}%\")\n",
    "\n",
    "# Plot predictions vs actuals\n",
    "plt.figure(figsize=(10, 5))\n",
    "plt.plot(actuals, label=\"Actual Prices\", color=\"blue\")\n",
    "plt.plot(predictions, label=\"Predicted Prices\", color=\"red\")\n",
    "plt.title(\"Predicted vs Actual Prices\")\n",
    "plt.xlabel(\"Time\")\n",
    "plt.ylabel(\"Price\")\n",
    "plt.legend()\n",
    "plt.show()\n",
    "\n",
    "# Plot error metrics\n",
    "metrics = {\"MSE\": mse, \"MAE\": mae, \"MAPE\": mape}\n",
    "plt.figure(figsize=(7, 5))\n",
    "plt.bar(metrics.keys(), metrics.values(), color=[\"blue\", \"green\", \"orange\"])\n",
    "plt.title(\"Evaluation Metrics\")\n",
    "plt.ylabel(\"Value\")\n",
    "plt.show()"
   ]
  },
  {
   "cell_type": "markdown",
   "metadata": {},
   "source": [
    "## 2 Fitting the Model on Just Stock Data"
   ]
  },
  {
   "cell_type": "code",
   "execution_count": 69,
   "metadata": {},
   "outputs": [],
   "source": [
    "import pandas as pd\n",
    "import torch\n",
    "from sklearn.preprocessing import StandardScaler\n",
    "\n",
    "# Split data into training (up to Sep 30, 2024) and testing (October 2024)\n",
    "train_df = stock_data[stock_data['Date'] <= '2024-08-27']\n",
    "test_df = stock_data[stock_data['Date'] > '2024-08-27']\n",
    "\n",
    "# Extract features and labels\n",
    "features = ['Open', 'High', 'Low', 'Volume']\n",
    "scaler = StandardScaler()\n",
    "train_features = scaler.fit_transform(train_df[features])\n",
    "train_close = train_df['Close'].values\n",
    "\n",
    "# Test data for ground truth comparison\n",
    "test_close = test_df['Close'].values\n"
   ]
  },
  {
   "cell_type": "code",
   "execution_count": 70,
   "metadata": {},
   "outputs": [],
   "source": [
    "# Function to create sequences\n",
    "def create_sequences(data, targets, sequence_length=30):\n",
    "    sequences = []\n",
    "    labels = []\n",
    "    for i in range(len(data) - sequence_length):\n",
    "        sequences.append(data[i:i + sequence_length])\n",
    "        labels.append(targets[i + sequence_length])\n",
    "    return torch.tensor(sequences, dtype=torch.float32), torch.tensor(labels, dtype=torch.float32)\n",
    "\n",
    "# Create training sequences\n",
    "sequence_length = 30\n",
    "X_train, y_train = create_sequences(train_features, train_close, sequence_length)"
   ]
  },
  {
   "cell_type": "code",
   "execution_count": 71,
   "metadata": {},
   "outputs": [],
   "source": [
    "import torch.nn as nn\n",
    "import torch.optim as optim\n",
    "\n",
    "# Define the LSTM model\n",
    "class StockLSTM(nn.Module):\n",
    "    def __init__(self, input_dim, hidden_dim, output_dim, num_layers=1):\n",
    "        super(StockLSTM, self).__init__()\n",
    "        self.lstm = nn.LSTM(input_dim, hidden_dim, num_layers, batch_first=True)\n",
    "        self.fc = nn.Linear(hidden_dim, output_dim)\n",
    "\n",
    "    def forward(self, x):\n",
    "        _, (h_n, _) = self.lstm(x)  # Hidden state of last time step\n",
    "        out = self.fc(h_n[-1])     # Output from the last layer's hidden state\n",
    "        return out\n",
    "\n",
    "# Model parameters\n",
    "input_dim = len(features)\n",
    "hidden_dim = 64\n",
    "output_dim = 1\n",
    "num_layers = 1\n",
    "\n",
    "model = StockLSTM(input_dim, hidden_dim, output_dim, num_layers)\n",
    "criterion = nn.MSELoss()\n",
    "optimizer = optim.Adam(model.parameters(), lr=0.001)\n"
   ]
  },
  {
   "cell_type": "code",
   "execution_count": 60,
   "metadata": {},
   "outputs": [
    {
     "name": "stderr",
     "output_type": "stream",
     "text": [
      "/Users/saad/Documents/UIC/Semester 1/Machine Learning/project/class-project-odin-s-sight/venv/lib/python3.12/site-packages/torch/nn/modules/loss.py:608: UserWarning: Using a target size (torch.Size([4686])) that is different to the input size (torch.Size([4686, 1])). This will likely lead to incorrect results due to broadcasting. Please ensure they have the same size.\n",
      "  return F.mse_loss(input, target, reduction=self.reduction)\n"
     ]
    },
    {
     "name": "stdout",
     "output_type": "stream",
     "text": [
      "Epoch 10/100, Loss: 892.3508911132812\n",
      "Epoch 20/100, Loss: 878.7990112304688\n",
      "Epoch 30/100, Loss: 833.354248046875\n",
      "Epoch 40/100, Loss: 739.876953125\n",
      "Epoch 50/100, Loss: 662.7769165039062\n",
      "Epoch 60/100, Loss: 601.7880859375\n",
      "Epoch 70/100, Loss: 553.3871459960938\n",
      "Epoch 80/100, Loss: 514.7788696289062\n",
      "Epoch 90/100, Loss: 482.4252014160156\n",
      "Epoch 100/100, Loss: 454.5206298828125\n"
     ]
    }
   ],
   "source": [
    "# Train the model\n",
    "epochs = 100\n",
    "model.train()\n",
    "for epoch in range(epochs):\n",
    "    optimizer.zero_grad()\n",
    "    output = model(X_train)\n",
    "    loss = criterion(output, y_train)\n",
    "    loss.backward()\n",
    "    optimizer.step()\n",
    "    \n",
    "    if (epoch + 1) % 10 == 0:\n",
    "        print(f\"Epoch {epoch + 1}/{epochs}, Loss: {loss.item()}\")\n"
   ]
  },
  {
   "cell_type": "code",
   "execution_count": 75,
   "metadata": {},
   "outputs": [
    {
     "name": "stdout",
     "output_type": "stream",
     "text": [
      "tensor([[-0.0568]])\n",
      "tensor([[ 1.5137,  1.5765,  1.5354, -0.3643],\n",
      "        [ 1.5639,  1.5693,  1.5816, -0.6763],\n",
      "        [ 1.5595,  1.5303,  1.5200, -0.6829],\n",
      "        [ 1.5035,  1.4782,  1.4928, -0.6215],\n",
      "        [ 1.4620,  1.4349,  1.4613, -0.7561],\n",
      "        [ 1.4467,  1.4537,  1.4540, -0.4147],\n",
      "        [ 1.5071,  1.5368,  1.5141, -0.5935],\n",
      "        [ 1.5035,  1.5238,  1.5273, -0.7663],\n",
      "        [ 1.5399,  1.5382,  1.5420, -0.9429],\n",
      "        [ 1.5668,  1.5628,  1.5750, -0.6113],\n",
      "        [ 1.5828,  1.5787,  1.6007, -0.6194],\n",
      "        [ 1.5981,  1.5751,  1.5244, -0.6620],\n",
      "        [ 1.5297,  1.5050,  1.4620, -0.4650],\n",
      "        [ 1.4474,  1.4276,  1.3403, -0.2486],\n",
      "        [ 1.3164,  1.3597,  1.3366, -0.5976],\n",
      "        [ 1.3651,  1.3937,  1.3696, -0.6824],\n",
      "        [ 1.3550,  1.3980,  1.3835, -0.6799],\n",
      "        [ 1.3855,  1.3828,  1.3806, -0.5712],\n",
      "        [ 1.3732,  1.3597,  1.3263, -0.6066],\n",
      "        [ 1.3331,  1.3344,  1.3549, -0.5803],\n",
      "        [ 1.3448,  1.3597,  1.3659, -0.2102],\n",
      "        [ 1.6076,  1.6878,  1.5948,  0.3736],\n",
      "        [ 1.5996,  1.6481,  1.6198, -0.3343],\n",
      "        [ 1.6498,  1.6669,  1.6784, -0.7536],\n",
      "        [ 1.6972,  1.6943,  1.7005, -0.6673],\n",
      "        [ 1.7197,  1.7073,  1.7320, -0.5727],\n",
      "        [ 1.7510,  1.7348,  1.7430, -0.6503],\n",
      "        [ 1.7357,  1.7232,  1.7533, -0.7522],\n",
      "        [ 1.7561,  1.7413,  1.7826, -0.9223]])\n"
     ]
    },
    {
     "ename": "RuntimeError",
     "evalue": "Sizes of tensors must match except in dimension 0. Expected size 4 but got size 1 for tensor number 1 in the list.",
     "output_type": "error",
     "traceback": [
      "\u001b[0;31m---------------------------------------------------------------------------\u001b[0m",
      "\u001b[0;31mRuntimeError\u001b[0m                              Traceback (most recent call last)",
      "Cell \u001b[0;32mIn[75], line 18\u001b[0m\n\u001b[1;32m     16\u001b[0m         next_input \u001b[38;5;241m=\u001b[39m last_30_days[\u001b[38;5;241m0\u001b[39m, \u001b[38;5;241m1\u001b[39m:]\u001b[38;5;241m.\u001b[39mclone()  \u001b[38;5;66;03m# Exclude the first day (shift)\u001b[39;00m\n\u001b[1;32m     17\u001b[0m         \u001b[38;5;28mprint\u001b[39m(next_input)\n\u001b[0;32m---> 18\u001b[0m         next_input \u001b[38;5;241m=\u001b[39m \u001b[43mtorch\u001b[49m\u001b[38;5;241;43m.\u001b[39;49m\u001b[43mcat\u001b[49m\u001b[43m(\u001b[49m\u001b[43m(\u001b[49m\u001b[43mnext_input\u001b[49m\u001b[43m,\u001b[49m\u001b[43m \u001b[49m\u001b[43mtorch\u001b[49m\u001b[38;5;241;43m.\u001b[39;49m\u001b[43mtensor\u001b[49m\u001b[43m(\u001b[49m\u001b[43m[\u001b[49m\u001b[43m[\u001b[49m\u001b[43mnext_day\u001b[49m\u001b[43m]\u001b[49m\u001b[43m]\u001b[49m\u001b[43m,\u001b[49m\u001b[43m \u001b[49m\u001b[43mdtype\u001b[49m\u001b[38;5;241;43m=\u001b[39;49m\u001b[43mtorch\u001b[49m\u001b[38;5;241;43m.\u001b[39;49m\u001b[43mfloat32\u001b[49m\u001b[43m)\u001b[49m\u001b[43m)\u001b[49m\u001b[43m,\u001b[49m\u001b[43m \u001b[49m\u001b[43mdim\u001b[49m\u001b[38;5;241;43m=\u001b[39;49m\u001b[38;5;241;43m0\u001b[39;49m\u001b[43m)\u001b[49m\n\u001b[1;32m     19\u001b[0m         last_30_days \u001b[38;5;241m=\u001b[39m next_input\u001b[38;5;241m.\u001b[39munsqueeze(\u001b[38;5;241m0\u001b[39m)  \u001b[38;5;66;03m# Update for the next iteration\u001b[39;00m\n\u001b[1;32m     21\u001b[0m \u001b[38;5;66;03m# Compare predictions to ground truth\u001b[39;00m\n",
      "\u001b[0;31mRuntimeError\u001b[0m: Sizes of tensors must match except in dimension 0. Expected size 4 but got size 1 for tensor number 1 in the list."
     ]
    }
   ],
   "source": [
    "# Predict October 2024 Close Prices\n",
    "model.eval()\n",
    "with torch.no_grad():\n",
    "    # Use the last 30 days from training data as the initial input\n",
    "    last_30_days = train_features[-30:]\n",
    "    last_30_days = torch.tensor(last_30_days, dtype=torch.float32).unsqueeze(0)  # Add batch dimension\n",
    "\n",
    "    predictions = []\n",
    "    for _ in range(len(test_df)):\n",
    "        # Predict the next day\n",
    "        print(model(last_30_days))\n",
    "        next_day = model(last_30_days).item()\n",
    "        predictions.append(next_day)\n",
    "\n",
    "        # Update the input: Remove the oldest and append the new prediction\n",
    "        next_input = last_30_days[0, 1:].clone()  # Exclude the first day (shift)\n",
    "        print(next_input)\n",
    "        next_input = torch.cat((next_input, torch.tensor([[next_day]], dtype=torch.float32)), dim=0)\n",
    "        last_30_days = next_input.unsqueeze(0)  # Update for the next iteration\n",
    "\n",
    "# Compare predictions to ground truth\n",
    "print(\"Predictions for October 2024 Close Prices:\")\n",
    "print(predictions)"
   ]
  },
  {
   "cell_type": "code",
   "execution_count": 62,
   "metadata": {},
   "outputs": [
    {
     "name": "stdout",
     "output_type": "stream",
     "text": [
      "Mean Squared Error: nan\n",
      "Mean Absolute Percentage Error: nan%\n"
     ]
    },
    {
     "name": "stderr",
     "output_type": "stream",
     "text": [
      "/Users/saad/Documents/UIC/Semester 1/Machine Learning/project/class-project-odin-s-sight/venv/lib/python3.12/site-packages/numpy/_core/fromnumeric.py:3904: RuntimeWarning: Mean of empty slice.\n",
      "  return _methods._mean(a, axis=axis, dtype=dtype,\n",
      "/Users/saad/Documents/UIC/Semester 1/Machine Learning/project/class-project-odin-s-sight/venv/lib/python3.12/site-packages/numpy/_core/_methods.py:147: RuntimeWarning: invalid value encountered in scalar divide\n",
      "  ret = ret.dtype.type(ret / rcount)\n"
     ]
    }
   ],
   "source": [
    "import numpy as np\n",
    "\n",
    "# Evaluate the model\n",
    "mse = np.mean((np.array(predictions) - test_close) ** 2)\n",
    "print(f\"Mean Squared Error: {mse:.4f}\")\n",
    "\n",
    "mape = np.mean(np.abs((test_close - np.array(predictions)) / test_close)) * 100\n",
    "print(f\"Mean Absolute Percentage Error: {mape:.2f}%\")"
   ]
  },
  {
   "cell_type": "code",
   "execution_count": null,
   "metadata": {},
   "outputs": [],
   "source": []
  }
 ],
 "metadata": {
  "kernelspec": {
   "display_name": "venv",
   "language": "python",
   "name": "python3"
  },
  "language_info": {
   "codemirror_mode": {
    "name": "ipython",
    "version": 3
   },
   "file_extension": ".py",
   "mimetype": "text/x-python",
   "name": "python",
   "nbconvert_exporter": "python",
   "pygments_lexer": "ipython3",
   "version": "3.12.4"
  }
 },
 "nbformat": 4,
 "nbformat_minor": 2
}
